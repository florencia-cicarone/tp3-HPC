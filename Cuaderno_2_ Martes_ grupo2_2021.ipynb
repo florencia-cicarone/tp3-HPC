{
  "nbformat": 4,
  "nbformat_minor": 0,
  "metadata": {
    "colab": {
      "name": "Ejercicio1.ipynb",
      "provenance": [],
      "collapsed_sections": [],
      "include_colab_link": true
    },
    "kernelspec": {
      "name": "python3",
      "display_name": "Python 3"
    },
    "language_info": {
      "name": "python"
    },
    "accelerator": "GPU"
  },
  "cells": [
    {
      "cell_type": "markdown",
      "metadata": {
        "id": "view-in-github",
        "colab_type": "text"
      },
      "source": [
        "<a href=\"https://colab.research.google.com/github/florencia-cicarone/tp3-HPC/blob/main/Cuaderno_2_%20Martes_%20grupo2_2021.ipynb\" target=\"_parent\"><img src=\"https://colab.research.google.com/assets/colab-badge.svg\" alt=\"Open In Colab\"/></a>"
      ]
    },
    {
      "cell_type": "markdown",
      "metadata": {
        "id": "OgI4o9MZikWV"
      },
      "source": [
        "# 1. Introducción"
      ]
    },
    {
      "cell_type": "markdown",
      "metadata": {
        "id": "KQpOfAZoi-3b"
      },
      "source": [
        "En este cuaderno ...\n",
        "    "
      ]
    },
    {
      "cell_type": "markdown",
      "metadata": {
        "id": "XzjKQ9xnio5k"
      },
      "source": [
        "# 2. Armado del ambiente\n"
      ]
    },
    {
      "cell_type": "markdown",
      "metadata": {
        "id": "oJgqm2Bhn_4m"
      },
      "source": [
        "Escribir"
      ]
    },
    {
      "cell_type": "markdown",
      "metadata": {
        "id": "1j6-VxRt7YjJ"
      },
      "source": [
        "## 2.1 Módulo CUDA"
      ]
    },
    {
      "cell_type": "markdown",
      "metadata": {
        "id": "eAu6JW987lGf"
      },
      "source": [
        "Se instala en el cuaderno el módulo CUDA de python."
      ]
    },
    {
      "cell_type": "code",
      "metadata": {
        "colab": {
          "base_uri": "https://localhost:8080/"
        },
        "id": "CQKqrpVA7sv4",
        "outputId": "670e01b6-d414-4093-d301-c414a1e6eb0a"
      },
      "source": [
        "!pip install pycuda"
      ],
      "execution_count": 30,
      "outputs": [
        {
          "output_type": "stream",
          "text": [
            "Requirement already satisfied: pycuda in /usr/local/lib/python3.7/dist-packages (2021.1)\n",
            "Requirement already satisfied: appdirs>=1.4.0 in /usr/local/lib/python3.7/dist-packages (from pycuda) (1.4.4)\n",
            "Requirement already satisfied: pytools>=2011.2 in /usr/local/lib/python3.7/dist-packages (from pycuda) (2021.2.7)\n",
            "Requirement already satisfied: mako in /usr/local/lib/python3.7/dist-packages (from pycuda) (1.1.4)\n",
            "Requirement already satisfied: numpy>=1.6.0 in /usr/local/lib/python3.7/dist-packages (from pytools>=2011.2->pycuda) (1.19.5)\n",
            "Requirement already satisfied: MarkupSafe>=0.9.2 in /usr/local/lib/python3.7/dist-packages (from mako->pycuda) (2.0.1)\n"
          ],
          "name": "stdout"
        }
      ]
    },
    {
      "cell_type": "markdown",
      "metadata": {
        "id": "Q_MryJ54ita9"
      },
      "source": [
        "# 3. Desarrollo CPU"
      ]
    },
    {
      "cell_type": "markdown",
      "metadata": {
        "id": "yKxvecMY79ep"
      },
      "source": [
        "Ejecución del algoritmo adición de dos imágenes en CPU.\n",
        "\n",
        "\n",
        "\n"
      ]
    },
    {
      "cell_type": "code",
      "metadata": {
        "colab": {
          "base_uri": "https://localhost:8080/",
          "height": 436
        },
        "id": "ViMeXeJVqInP",
        "outputId": "3b4350e4-59d1-41a4-8a44-2bfd41df9be5"
      },
      "source": [
        "#@title 3.1 Parámetros de ejecución { vertical-output: true }\n",
        "\n",
        "cantidad_N =    10000000#@param {type: \"number\"}\n",
        "\n",
        "\n",
        "from datetime import datetime\n",
        "tiempo_total = datetime.now()\n",
        "\n",
        "import numpy\n",
        "import matplotlib.pyplot as plt \n",
        "import math\n",
        "\n",
        "tiempo_en_ms = lambda dt:(dt.days * 24 * 60 * 60 + dt.seconds) * 1000 + dt.microseconds / 1000.0\n",
        "\n",
        "try:\n",
        "  x = numpy.linspace(0, 5, cantidad_N) \n",
        "except ValueError:\n",
        "  sys.exit(\"La cantidad N no puede ser menor a 0\")\n",
        "y = numpy.zeros_like(x)\n",
        "\n",
        "\n",
        "tiempo_bucle = datetime.now()\n",
        "y[0]=1\n",
        "y[1]=1\n",
        "for key in range(2, cantidad_N):\n",
        "  y[key] = y[key-1]+y[key-2]\n",
        "tiempo_bucle = datetime.now() - tiempo_bucle\n",
        "\n",
        "fig = plt.figure(figsize = (10, 5)) \n",
        "# Create the plot \n",
        "plt.plot(x, y)\n",
        "\n",
        "plt.grid(b=True, which='major', color='#666666', linestyle='dotted')\n",
        "  \n",
        "# Show the plot \n",
        "plt.show() \n",
        "\n",
        "# -------------------------------------------\n",
        "\n",
        "tiempo_total = datetime.now() - tiempo_total\n",
        "\n",
        "print(\"Tiempo Total: \", tiempo_en_ms( tiempo_total ), \"[ms]\" )\n",
        "print(\"Tiempo bucle: \", tiempo_en_ms( tiempo_bucle ), \"[ms]\" )"
      ],
      "execution_count": 100,
      "outputs": [
        {
          "output_type": "stream",
          "text": [
            "/usr/local/lib/python3.7/dist-packages/ipykernel_launcher.py:26: RuntimeWarning: overflow encountered in double_scalars\n",
            "/usr/local/lib/python3.7/dist-packages/matplotlib/ticker.py:2161: RuntimeWarning: overflow encountered in multiply\n",
            "  steps = self._extended_steps * scale\n"
          ],
          "name": "stderr"
        },
        {
          "output_type": "display_data",
          "data": {
            "image/png": "[encoded data removed]",
            "text/plain": [
              "<Figure size 720x360 with 1 Axes>"
            ]
          },
          "metadata": {
            "tags": [],
            "needs_background": "light"
          }
        },
        {
          "output_type": "stream",
          "text": [
            "Tiempo Total:  6065.152 [ms]\n",
            "Tiempo bucle:  5549.1720000000005 [ms]\n"
          ],
          "name": "stdout"
        }
      ]
    },
    {
      "cell_type": "markdown",
      "metadata": {
        "id": "0BMjhKTpiw8O"
      },
      "source": [
        "# 4. Desarrollo GPU"
      ]
    },
    {
      "cell_type": "markdown",
      "metadata": {
        "id": "uu795O1f8LAy"
      },
      "source": [
        "Ejecución del algoritmo adición de dos imágenes en GPU.\n"
      ]
    },
    {
      "cell_type": "code",
      "metadata": {
        "colab": {
          "base_uri": "https://localhost:8080/",
          "height": 129
        },
        "id": "xudS_SXv9C3W",
        "outputId": "06da2202-ee27-428b-db22-fc7227b55e61"
      },
      "source": [
        "%matplotlib inline\n",
        "// Falta implementar"
      ],
      "execution_count": 94,
      "outputs": [
        {
          "output_type": "error",
          "ename": "SyntaxError",
          "evalue": "ignored",
          "traceback": [
            "\u001b[0;36m  File \u001b[0;32m\"<ipython-input-94-072ca9850345>\"\u001b[0;36m, line \u001b[0;32m2\u001b[0m\n\u001b[0;31m    (/, Falta, implementar)\u001b[0m\n\u001b[0m     ^\u001b[0m\n\u001b[0;31mSyntaxError\u001b[0m\u001b[0;31m:\u001b[0m invalid syntax\n"
          ]
        }
      ]
    },
    {
      "cell_type": "markdown",
      "metadata": {
        "id": "2AWTvwifi0kO"
      },
      "source": [
        "# 5. Métricas"
      ]
    },
    {
      "cell_type": "markdown",
      "metadata": {
        "id": "hdZOtoywTg3m"
      },
      "source": [
        "Comparativa de las velocidades entre CPU y GPU\n",
        "\n",
        "\n",
        "|                                   | CPU            | GPU           |\n",
        "|-----------------------------------|----------------|---------------|\n",
        "|**Tiempo de conversión de imagen:**| 14447.602 [ms] | 0.196 [ms]    |\n",
        "|**Tiempo TOTAL:**                  | 14550.574 [ms] | 113.482 [ms]  |\n"
      ]
    },
    {
      "cell_type": "markdown",
      "metadata": {
        "id": "AwFnw-1ei0pV"
      },
      "source": [
        "# 6. Conclusiones"
      ]
    },
    {
      "cell_type": "markdown",
      "metadata": {
        "id": "oUPoWkVXTHSE"
      },
      "source": [
        "\n"
      ]
    },
    {
      "cell_type": "markdown",
      "metadata": {
        "id": "MeGFyGdUi6Fu"
      },
      "source": [
        "# 7. Bibliografía"
      ]
    },
    {
      "cell_type": "markdown",
      "metadata": {
        "id": "B8CgI1kL8SKo"
      },
      "source": [
        "\n",
        "\n",
        "*   https://github.com/wvaliente/SOA_HPC/blob/main/Documentos/Python_Basico.ipynb\n",
        "*   http://dis.um.es/~ginesgm/files/doc/pi/tema2.pdf\n",
        "\n"
      ]
    }
  ]
}